{
 "cells": [
  {
   "cell_type": "code",
   "execution_count": 1,
   "id": "aeacce4a-620e-492c-94d1-ef956696f541",
   "metadata": {},
   "outputs": [],
   "source": [
    "import finesse\n",
    "from finesse import Model\n",
    "from finesse.components import Laser, Space, Lens, Nothing\n",
    "from finesse.detectors import PowerDetector\n",
    "from finesse.analysis.actions import Xaxis, Series, Change, sweep"
   ]
  },
  {
   "cell_type": "code",
   "execution_count": null,
   "id": "3dacf774-3b2c-4aff-bac4-645e30bd3954",
   "metadata": {},
   "outputs": [],
   "source": [
    "r = 0.9998\n",
    "Rc = 1\n",
    "\n",
    "laser = Laser(\"L\", P=1, f=(300e6)/(1550e-9))\n",
    "m1 = Mirror(\"m1\", R=r, T=t, Rc=rc)\n",
    "m2 = Mirror(\"m1\", R=r, T=t, Rc=rc)"
   ]
  }
 ],
 "metadata": {
  "kernelspec": {
   "display_name": "Python 3 (ipykernel)",
   "language": "python",
   "name": "python3"
  },
  "language_info": {
   "codemirror_mode": {
    "name": "ipython",
    "version": 3
   },
   "file_extension": ".py",
   "mimetype": "text/x-python",
   "name": "python",
   "nbconvert_exporter": "python",
   "pygments_lexer": "ipython3",
   "version": "3.12.4"
  },
  "widgets": {
   "application/vnd.jupyter.widget-state+json": {
    "state": {},
    "version_major": 2,
    "version_minor": 0
   }
  }
 },
 "nbformat": 4,
 "nbformat_minor": 5
}
